{
 "cells": [
  {
   "cell_type": "code",
   "execution_count": 4,
   "metadata": {
    "tags": []
   },
   "outputs": [
    {
     "output_type": "stream",
     "name": "stdout",
     "text": "Nro de filas: 3334\nNro de columnas: 1\n"
    }
   ],
   "source": [
    "mainpath = \"./datasets/\"\n",
    "\n",
    "data3 = open(mainpath + \"/\" + \"customer-churn-model/Customer Churn Model.txt\",\"r\")\n",
    "\n",
    "nro_filas = len(data3.readlines()) \n",
    "print(\"Nro de filas:\", nro_filas)\n",
    "# devuelve 3334 (obviamente para Python son 3333)\n",
    "\n",
    "nro_columnas = len(data3.readline().split(\",\"))\n",
    "print(\"Nro de columnas:\", nro_columnas)\n",
    "# devuelve 21 (obviamente para Python son 20)nro_filas = len(data3.readlines()) \n",
    "\n",
    "columnas = data3.readline().strip().split(\",\") # obtenemos las columnas de la primera fila\n",
    "main_dict = {columna:[] for columna in columnas} # creamos un diccionario con la key \"columna\" y la value [] (lista vacia)\n",
    "[main_dict[columnas[i]].append(linea.strip().split(\",\")[i]) for linea in data3 for i in range(len(columnas))] # le añadimos a cada key de main_dict, su respectivo valor\n",
    "\n",
    "\n",
    "infile  = mainpath + \"/\" + \"customer-churn-model/Customer Churn Model.txt\"\n",
    "outfile = mainpath + \"/\" + \"customer-churn-model/Tab Customer Churn Model 2.txt\"\n",
    "\n",
    "# utilizar replace() en vez de join()\n",
    "with open(infile, \"r\") as infile1:\n",
    "    with open(outfile, \"w\") as outfile1:\n",
    "        [outfile1.write(line.replace(\",\",\"\\t\") + \"\\n\") for line in infile1]\n",
    " \n"
   ]
  }
 ],
 "metadata": {
  "language_info": {
   "codemirror_mode": {
    "name": "ipython",
    "version": 3
   },
   "file_extension": ".py",
   "mimetype": "text/x-python",
   "name": "python",
   "nbconvert_exporter": "python",
   "pygments_lexer": "ipython3",
   "version": "3.8.2-final"
  },
  "orig_nbformat": 2,
  "kernelspec": {
   "name": "python38232bit36a82d4252674673ae4b663ecd0bfc4a",
   "display_name": "Python 3.8.2 32-bit"
  }
 },
 "nbformat": 4,
 "nbformat_minor": 2
}