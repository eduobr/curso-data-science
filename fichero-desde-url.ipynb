{
 "cells": [
  {
   "cell_type": "code",
   "execution_count": 98,
   "metadata": {},
   "outputs": [
    {
     "output_type": "execute_result",
     "data": {
      "text/plain": "   Year      City       Sport      Discipline  NOC       Event Event gender  \\\n0  1924  Chamonix     Skating  Figure skating  AUT  individual            M   \n1  1924  Chamonix     Skating  Figure skating  AUT  individual            W   \n2  1924  Chamonix     Skating  Figure skating  AUT       pairs            X   \n3  1924  Chamonix   Bobsleigh       Bobsleigh  BEL    four-man            M   \n4  1924  Chamonix  Ice Hockey      Ice Hockey  CAN  ice hockey            M   \n\n    Medal  \n0  Silver  \n1    Gold  \n2    Gold  \n3  Bronze  \n4    Gold  ",
      "text/html": "<div>\n<style scoped>\n    .dataframe tbody tr th:only-of-type {\n        vertical-align: middle;\n    }\n\n    .dataframe tbody tr th {\n        vertical-align: top;\n    }\n\n    .dataframe thead th {\n        text-align: right;\n    }\n</style>\n<table border=\"1\" class=\"dataframe\">\n  <thead>\n    <tr style=\"text-align: right;\">\n      <th></th>\n      <th>Year</th>\n      <th>City</th>\n      <th>Sport</th>\n      <th>Discipline</th>\n      <th>NOC</th>\n      <th>Event</th>\n      <th>Event gender</th>\n      <th>Medal</th>\n    </tr>\n  </thead>\n  <tbody>\n    <tr>\n      <th>0</th>\n      <td>1924</td>\n      <td>Chamonix</td>\n      <td>Skating</td>\n      <td>Figure skating</td>\n      <td>AUT</td>\n      <td>individual</td>\n      <td>M</td>\n      <td>Silver</td>\n    </tr>\n    <tr>\n      <th>1</th>\n      <td>1924</td>\n      <td>Chamonix</td>\n      <td>Skating</td>\n      <td>Figure skating</td>\n      <td>AUT</td>\n      <td>individual</td>\n      <td>W</td>\n      <td>Gold</td>\n    </tr>\n    <tr>\n      <th>2</th>\n      <td>1924</td>\n      <td>Chamonix</td>\n      <td>Skating</td>\n      <td>Figure skating</td>\n      <td>AUT</td>\n      <td>pairs</td>\n      <td>X</td>\n      <td>Gold</td>\n    </tr>\n    <tr>\n      <th>3</th>\n      <td>1924</td>\n      <td>Chamonix</td>\n      <td>Bobsleigh</td>\n      <td>Bobsleigh</td>\n      <td>BEL</td>\n      <td>four-man</td>\n      <td>M</td>\n      <td>Bronze</td>\n    </tr>\n    <tr>\n      <th>4</th>\n      <td>1924</td>\n      <td>Chamonix</td>\n      <td>Ice Hockey</td>\n      <td>Ice Hockey</td>\n      <td>CAN</td>\n      <td>ice hockey</td>\n      <td>M</td>\n      <td>Gold</td>\n    </tr>\n  </tbody>\n</table>\n</div>"
     },
     "metadata": {},
     "execution_count": 98
    }
   ],
   "source": [
    "import pandas as pd\n",
    "\n",
    "medals_url = \"http://winterolympicsmedals.com/medals.csv\"\n",
    "medals_data = pd.read_csv(medals_url)\n",
    "\n",
    "medals_data.head()"
   ]
  },
  {
   "cell_type": "code",
   "execution_count": 99,
   "metadata": {
    "tags": []
   },
   "outputs": [],
   "source": [
    "import urllib3\n",
    "http = urllib3.PoolManager()\n",
    "r = http.request(\"GET\",medals_url)\n",
    "r.status\n",
    "response = r.data.decode('utf-8').split(\"\\n\")"
   ]
  },
  {
   "cell_type": "code",
   "execution_count": 100,
   "metadata": {
    "tags": [
     "outputPrepend"
    ]
   },
   "outputs": [
    {
     "output_type": "stream",
     "name": "stdout",
     "text": " 'UKR', 'ice dancing', 'X', 'Bronze']\n['2006', 'Turin', 'Bobsleigh', 'Bobsleigh', 'USA', 'two-man', 'W', 'Silver']\n['2006', 'Turin', 'Curling', 'Curling', 'USA', 'curling', 'M', 'Bronze']\n['2006', 'Turin', 'Ice Hockey', 'Ice Hockey', 'USA', 'ice hockey', 'W', 'Bronze']\n['2006', 'Turin', 'Skating', 'Figure skating', 'USA', 'ice dancing', 'X', 'Silver']\n['2006', 'Turin', 'Skating', 'Figure skating', 'USA', 'individual', 'W', 'Silver']\n['2006', 'Turin', 'Skating', 'Short Track S.', 'USA', '1000m', 'M', 'Bronze']\n['2006', 'Turin', 'Skating', 'Short Track S.', 'USA', '5000m relay', 'M', 'Bronze']\n['2006', 'Turin', 'Skating', 'Short Track S.', 'USA', '500m', 'M', 'Gold']\n['2006', 'Turin', 'Skating', 'Speed skating', 'USA', '10000m', 'M', 'Silver']\n['2006', 'Turin', 'Skating', 'Speed skating', 'USA', '1000m', 'M', 'Gold']\n['2006', 'Turin', 'Skating', 'Speed skating', 'USA', '1000m', 'M', 'Silver']\n['2006', 'Turin', 'Skating', 'Speed skating', 'USA', '1500m', 'M', 'Bronze']\n['2006', 'Turin', 'Skating', 'Speed skating', 'USA', '1500m', 'M', 'Silver']\n['2006', 'Turin', 'Skating', 'Speed skating', 'USA', '5000m', 'M', 'Gold']\n['2006', 'Turin', 'Skating', 'Speed skating', 'USA', '500m', 'M', 'Gold']\n['2006', 'Turin', 'Skiing', 'Alpine Skiing', 'USA', 'Alpine combined', 'M', 'Gold']\n['2006', 'Turin', 'Skiing', 'Alpine Skiing', 'USA', 'giant slalom', 'W', 'Gold']\n['2006', 'Turin', 'Skiing', 'Freestyle Ski.', 'USA', 'moguls', 'M', 'Bronze']\n['2006', 'Turin', 'Skiing', 'Snowboard', 'USA', 'Giant parallel slalom', 'W', 'Bronze']\n['2006', 'Turin', 'Skiing', 'Snowboard', 'USA', 'Half-pipe', 'M', 'Gold']\n['2006', 'Turin', 'Skiing', 'Snowboard', 'USA', 'Half-pipe', 'M', 'Silver']\n['2006', 'Turin', 'Skiing', 'Snowboard', 'USA', 'Half-pipe', 'W', 'Gold']\n['2006', 'Turin', 'Skiing', 'Snowboard', 'USA', 'Half-pipe', 'W', 'Silver']\n['2006', 'Turin', 'Skiing', 'Snowboard', 'USA', 'Snowboard Cross', 'M', 'Gold']\n['2006', 'Turin', 'Skiing', 'Snowboard', 'USA', 'Snowboard Cross', 'W', 'Silver']\n"
    }
   ],
   "source": [
    "import csv\n",
    "cr = csv.reader(response)\n",
    "for row in cr:\n",
    "    print(row)\n"
   ]
  }
 ],
 "metadata": {
  "language_info": {
   "codemirror_mode": {
    "name": "ipython",
    "version": 3
   },
   "file_extension": ".py",
   "mimetype": "text/x-python",
   "name": "python",
   "nbconvert_exporter": "python",
   "pygments_lexer": "ipython3",
   "version": "3.8.2-final"
  },
  "orig_nbformat": 2,
  "kernelspec": {
   "name": "python38232bit36a82d4252674673ae4b663ecd0bfc4a",
   "display_name": "Python 3.8.2 32-bit"
  }
 },
 "nbformat": 4,
 "nbformat_minor": 2
}